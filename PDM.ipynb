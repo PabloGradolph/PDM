{
 "cells": [
  {
   "cell_type": "markdown",
   "metadata": {},
   "source": [
    "### Carga y Procesamiento de Datos"
   ]
  },
  {
   "cell_type": "code",
   "execution_count": 24,
   "metadata": {},
   "outputs": [],
   "source": [
    "from joblib import Parallel, delayed\n",
    "import os\n",
    "import random\n",
    "import numpy as np\n",
    "import pandas as pd\n",
    "from numba import njit"
   ]
  },
  {
   "cell_type": "code",
   "execution_count": 25,
   "metadata": {},
   "outputs": [],
   "source": [
    "def load_instance(file_path):\n",
    "    with open(file_path, 'r') as f:\n",
    "        lines = f.readlines()\n",
    "    \n",
    "    n, m = map(int, lines[0].strip().split())  # Leer valores de n y m\n",
    "    distances = np.zeros((n, n))\n",
    "\n",
    "    for line in lines[1:]:\n",
    "        i, j, d = map(float, line.strip().split())\n",
    "        distances[int(i), int(j)] = d\n",
    "        distances[int(j), int(i)] = d  # Matriz simétrica\n",
    "\n",
    "    return n, m, distances"
   ]
  },
  {
   "cell_type": "markdown",
   "metadata": {},
   "source": [
    "### Algoritmo Genético (GA) Base\n",
    "\n",
    "Vamos a implementar el Algoritmo Genético (GA) Base para el Problema de la Diversidad Máxima (PDM) en Python."
   ]
  },
  {
   "cell_type": "code",
   "execution_count": 43,
   "metadata": {},
   "outputs": [],
   "source": [
    "def fitness(solution, distances):\n",
    "    \"\"\"Calcula la diversidad total sumando las distancias entre pares de elementos seleccionados.\"\"\"\n",
    "    total_diversity = 0\n",
    "    for i in range(len(solution)):\n",
    "        for j in range(i + 1, len(solution)):\n",
    "            total_diversity += distances[solution[i]][solution[j]]\n",
    "    return total_diversity"
   ]
  },
  {
   "cell_type": "code",
   "execution_count": 44,
   "metadata": {},
   "outputs": [],
   "source": [
    "### Algoritmo Genético (GA)\n",
    "class GeneticAlgorithm:\n",
    "    def __init__(self, distances, n, m, population_size=100, generations=500, mutation_rate=0.1, elite_size=10):\n",
    "        self.distances = distances\n",
    "        self.n = n\n",
    "        self.m = m\n",
    "        self.population_size = population_size\n",
    "        self.generations = generations\n",
    "        self.mutation_rate = mutation_rate\n",
    "        self.elite_size = elite_size\n",
    "        self.population = self.initialize_population()\n",
    "        self.best_solution = None\n",
    "        self.best_fitness = float('-inf')\n",
    "\n",
    "    def initialize_population(self):\n",
    "        \"\"\"Inicializa la población con soluciones aleatorias.\"\"\"\n",
    "        population = []\n",
    "        for _ in range(self.population_size):\n",
    "            individual = random.sample(range(self.n), self.m)\n",
    "            population.append(individual)\n",
    "        return population\n",
    "\n",
    "    def selection(self):\n",
    "        \"\"\"Realiza selección por torneo de tamaño 5.\"\"\"\n",
    "        new_population = []\n",
    "        for _ in range(self.population_size):\n",
    "            tournament = random.sample(self.population, 5)\n",
    "            best_individual = max(tournament, key=lambda ind: fitness(ind, self.distances))\n",
    "            new_population.append(best_individual)\n",
    "        return new_population\n",
    "\n",
    "    def crossover(self, parent1, parent2):\n",
    "        \"\"\"Cruza dos padres para generar un hijo.\"\"\"\n",
    "        cut = random.randint(1, self.m - 1)\n",
    "        child = parent1[:cut]\n",
    "        for gene in parent2:\n",
    "            if gene not in child:\n",
    "                child.append(gene)\n",
    "            if len(child) == self.m:\n",
    "                break\n",
    "        return child\n",
    "\n",
    "    def mutate(self, solution):\n",
    "        \"\"\"Realiza mutación intercambiando dos genes.\"\"\"\n",
    "        if random.random() < self.mutation_rate:\n",
    "            idx1, idx2 = random.sample(range(self.m), 2)\n",
    "            solution[idx1], solution[idx2] = solution[idx2], solution[idx1]\n",
    "        return solution\n",
    "\n",
    "    def evolve(self):\n",
    "        \"\"\"Evoluciona la población durante un número dado de generaciones.\"\"\"\n",
    "        for generation in range(self.generations):\n",
    "            new_population = self.selection()[:self.elite_size]\n",
    "\n",
    "            while len(new_population) < self.population_size:\n",
    "                p1, p2 = random.sample(self.population, 2)\n",
    "                child = self.crossover(p1, p2)\n",
    "                new_population.append(self.mutate(child))\n",
    "\n",
    "            self.population = new_population\n",
    "\n",
    "            # Evaluar mejor solución\n",
    "            best_solution = max(self.population, key=lambda ind: fitness(ind, self.distances))\n",
    "            best_fitness = fitness(best_solution, self.distances)\n",
    "\n",
    "            if best_fitness > self.best_fitness:\n",
    "                self.best_fitness = best_fitness\n",
    "                self.best_solution = best_solution\n",
    "                print(f\"\\n[Generación {generation+1}] Nuevo mejor valor de diversidad: {self.best_fitness:.2f}\")\n",
    "\n",
    "        return self.best_solution, self.best_fitness"
   ]
  },
  {
   "cell_type": "markdown",
   "metadata": {},
   "source": [
    "### Prueba del código sobre una de las instancias MDG-a"
   ]
  },
  {
   "cell_type": "code",
   "execution_count": 28,
   "metadata": {},
   "outputs": [
    {
     "name": "stdout",
     "output_type": "stream",
     "text": [
      "\n",
      "Iniciando Algoritmo Genético con 50 individuos y 250 generaciones...\n",
      "\n",
      "[Generación 1] Nuevo mejor valor de diversidad: 6349.84\n",
      "\n",
      "[Generación 2] Nuevo mejor valor de diversidad: 6404.99\n",
      "\n",
      "[Generación 5] Nuevo mejor valor de diversidad: 6413.09\n",
      "\n",
      "[Generación 8] Nuevo mejor valor de diversidad: 6414.64\n",
      "\n",
      "[Generación 9] Nuevo mejor valor de diversidad: 6447.27\n",
      "\n",
      "[Generación 13] Nuevo mejor valor de diversidad: 6451.22\n",
      "\n",
      "[Generación 15] Nuevo mejor valor de diversidad: 6467.52\n",
      "\n",
      "[Generación 31] Nuevo mejor valor de diversidad: 6467.89\n",
      "\n",
      "[Generación 36] Nuevo mejor valor de diversidad: 6467.89\n",
      "\n",
      "[Generación 37] Nuevo mejor valor de diversidad: 6467.89\n",
      "\n",
      "[Generación 39] Nuevo mejor valor de diversidad: 6467.89\n",
      "\n",
      "[Generación 41] Nuevo mejor valor de diversidad: 6467.89\n",
      "\n",
      "[Generación 42] Nuevo mejor valor de diversidad: 6467.89\n",
      "\n",
      "[Generación 44] Nuevo mejor valor de diversidad: 6467.89\n",
      "\n",
      "[Generación 45] Nuevo mejor valor de diversidad: 6467.89\n",
      "\n",
      "[Generación 47] Nuevo mejor valor de diversidad: 6467.89\n",
      "\n",
      "[Generación 48] Nuevo mejor valor de diversidad: 6467.89\n",
      "\n",
      "[Generación 50] Nuevo mejor valor de diversidad: 6467.89\n",
      "\n",
      "[Generación 53] Nuevo mejor valor de diversidad: 6467.89\n",
      "\n",
      "[Generación 60] Nuevo mejor valor de diversidad: 6467.89\n",
      "\n",
      "[Generación 63] Nuevo mejor valor de diversidad: 6467.89\n",
      "\n",
      "[Generación 72] Nuevo mejor valor de diversidad: 6467.89\n",
      "\n",
      "[Generación 77] Nuevo mejor valor de diversidad: 6467.89\n",
      "\n",
      "[Generación 85] Nuevo mejor valor de diversidad: 6467.89\n",
      "\n",
      "[Generación 88] Nuevo mejor valor de diversidad: 6467.89\n",
      "\n",
      "[Generación 99] Nuevo mejor valor de diversidad: 6467.89\n",
      "\n",
      "[Generación 101] Nuevo mejor valor de diversidad: 6467.89\n",
      "\n",
      "[Generación 119] Nuevo mejor valor de diversidad: 6467.89\n",
      "\n",
      "[Generación 122] Nuevo mejor valor de diversidad: 6491.36\n",
      "\n",
      "[Generación 127] Nuevo mejor valor de diversidad: 6491.36\n",
      "\n",
      "[Generación 135] Nuevo mejor valor de diversidad: 6491.36\n",
      "\n",
      "[Generación 158] Nuevo mejor valor de diversidad: 6491.36\n",
      "\n",
      "[Generación 168] Nuevo mejor valor de diversidad: 6491.36\n",
      "\n",
      "[Generación 194] Nuevo mejor valor de diversidad: 6491.36\n",
      "\n",
      "[Generación 201] Nuevo mejor valor de diversidad: 6491.36\n",
      "\n",
      "[Generación 219] Nuevo mejor valor de diversidad: 6491.36\n",
      "\n",
      "[Generación 229] Nuevo mejor valor de diversidad: 6491.36\n",
      "\n",
      "[Generación 241] Nuevo mejor valor de diversidad: 6491.36\n",
      "\n",
      "Finalización del Algoritmo Genético\n",
      "Mejor solucion encontrada: [54, 241, 487, 302, 445, 130, 363, 189, 430, 105, 399, 41, 187, 210, 339, 403, 37, 412, 48, 85, 442, 444, 129, 200, 385, 87, 139, 335, 136, 104, 371, 256, 479, 431, 437, 96, 246, 175, 8, 359, 82, 470, 422, 77, 340, 282, 34, 388, 198, 301]\n",
      "Valor de diversidad maxima: 6491.3600000000415\n"
     ]
    }
   ],
   "source": [
    "# Cargar una instancia\n",
    "path = \"Instancias y Tablas MDP 2020-21/\"\n",
    "file_path = path + \"MDG-a_1_n500_m50.txt\"\n",
    "n, m, distances = load_instance(file_path)\n",
    "\n",
    "# Ejecutar el Algoritmo Genético\n",
    "print(f\"\\nIniciando Algoritmo Genético con 50 individuos y 250 generaciones...\")\n",
    "ga = GeneticAlgorithm(distances, n, m, population_size=50, generations=250)\n",
    "best_solution, best_fitness = ga.evolve()\n",
    "print(\"\\nFinalización del Algoritmo Genético\")\n",
    "\n",
    "print(\"Mejor solucion encontrada:\", best_solution)\n",
    "print(\"Valor de diversidad maxima:\", best_fitness)"
   ]
  },
  {
   "cell_type": "markdown",
   "metadata": {},
   "source": [
    "### Prueba del código sobre una de las instancias MDG-b"
   ]
  },
  {
   "cell_type": "code",
   "execution_count": 45,
   "metadata": {},
   "outputs": [
    {
     "name": "stdout",
     "output_type": "stream",
     "text": [
      "\n",
      "Iniciando Algoritmo Genético con 50 individuos y 250 generaciones...\n",
      "\n",
      "[Generación 1] Nuevo mejor valor de diversidad: 10052515.36\n",
      "\n",
      "[Generación 3] Nuevo mejor valor de diversidad: 10052877.87\n",
      "\n",
      "[Generación 5] Nuevo mejor valor de diversidad: 10057603.73\n",
      "\n",
      "[Generación 12] Nuevo mejor valor de diversidad: 10072421.04\n",
      "\n",
      "[Generación 34] Nuevo mejor valor de diversidad: 10072541.41\n",
      "\n",
      "[Generación 42] Nuevo mejor valor de diversidad: 10078458.52\n",
      "\n",
      "Finalización del Algoritmo Genético\n",
      "Mejor solucion encontrada: [1131, 1746, 1190, 1513, 1170, 1277, 1665, 356, 1341, 665, 1801, 1144, 1774, 287, 1647, 838, 433, 1049, 386, 1288, 1612, 498, 1342, 1406, 826, 222, 1677, 1386, 1605, 1588, 1002, 1935, 1560, 974, 1722, 716, 1865, 874, 60, 1064, 1035, 993, 846, 1403, 892, 164, 119, 1579, 1361, 1438, 693, 1850, 151, 757, 1608, 1008, 1628, 1180, 515, 1407, 387, 209, 183, 504, 1942, 1113, 960, 1397, 148, 648, 610, 1346, 863, 512, 126, 1142, 1790, 1520, 747, 1145, 1426, 1903, 3, 379, 936, 41, 1751, 1296, 742, 384, 1841, 412, 1717, 1382, 1266, 341, 1327, 93, 292, 554, 752, 701, 90, 192, 1985, 416, 435, 1522, 289, 347, 1015, 1409, 1554, 1256, 1565, 1601, 1590, 931, 595, 1061, 1429, 124, 911, 186, 895, 506, 593, 1395, 959, 1634, 258, 928, 197, 1833, 42, 311, 366, 919, 666, 115, 232, 1337, 536, 1153, 745, 1415, 531, 1582, 1186, 319, 448, 766, 1723, 199, 1689, 178, 1230, 1981, 1038, 1031, 1350, 419, 243, 1802, 996, 1592, 681, 1663, 1951, 1852, 671, 1781, 1481, 956, 1892, 445, 1880, 1664, 767, 559, 240, 1829, 623, 1735, 66, 1097, 1404, 1418, 1922, 1323, 266, 225, 322, 1736, 1836, 1249, 1639, 661, 1463, 688]\n",
      "Valor de diversidad maxima: 10078458.52342775\n"
     ]
    }
   ],
   "source": [
    "# Cargar una instancia\n",
    "path = \"Instancias y Tablas MDP 2020-21/\"\n",
    "file_path = path + \"MDG-b_21_n2000_m200.txt\"\n",
    "n, m, distances = load_instance(file_path)\n",
    "\n",
    "# Ejecutar el Algoritmo Genético\n",
    "print(f\"\\nIniciando Algoritmo Genético con 50 individuos y 250 generaciones...\")\n",
    "ga = GeneticAlgorithm(distances, n, m, population_size=50, generations=250)\n",
    "best_solution, best_fitness = ga.evolve()\n",
    "print(\"\\nFinalización del Algoritmo Genético\")\n",
    "\n",
    "print(\"Mejor solucion encontrada:\", best_solution)\n",
    "print(\"Valor de diversidad maxima:\", best_fitness)"
   ]
  },
  {
   "cell_type": "markdown",
   "metadata": {},
   "source": [
    "### Prueba del código sobre una de las instancias MDG-c"
   ]
  },
  {
   "cell_type": "code",
   "execution_count": 46,
   "metadata": {},
   "outputs": [
    {
     "name": "stdout",
     "output_type": "stream",
     "text": [
      "\n",
      "Iniciando Algoritmo Genético con 50 individuos y 250 generaciones...\n",
      "\n",
      "[Generación 1] Nuevo mejor valor de diversidad: 22609482.00\n",
      "\n",
      "[Generación 5] Nuevo mejor valor de diversidad: 22610822.00\n",
      "\n",
      "[Generación 9] Nuevo mejor valor de diversidad: 22610899.00\n",
      "\n",
      "[Generación 11] Nuevo mejor valor de diversidad: 22611259.00\n",
      "\n",
      "[Generación 12] Nuevo mejor valor de diversidad: 22614839.00\n",
      "\n",
      "[Generación 18] Nuevo mejor valor de diversidad: 22620205.00\n",
      "\n",
      "Finalización del Algoritmo Genético\n",
      "Mejor solucion encontrada: [2526, 2285, 585, 401, 2740, 910, 1587, 320, 218, 2318, 1101, 667, 501, 805, 885, 184, 1267, 2849, 169, 2489, 175, 164, 603, 2037, 2056, 2240, 2818, 2939, 2153, 350, 2283, 486, 2790, 140, 2670, 2866, 2722, 434, 2537, 2997, 142, 2277, 1093, 2535, 2009, 1484, 86, 1576, 1599, 1623, 1360, 1279, 2804, 1147, 468, 1637, 1893, 2136, 426, 322, 1810, 1988, 2125, 2531, 2966, 2340, 1685, 2989, 518, 436, 136, 1671, 944, 961, 1686, 1826, 1139, 2503, 1110, 244, 522, 2844, 219, 1330, 644, 1791, 2547, 2601, 2709, 524, 1748, 1712, 1099, 1289, 1364, 1229, 2864, 1082, 217, 2650, 2117, 1155, 2254, 1730, 640, 1967, 253, 9, 2909, 59, 167, 1542, 1335, 25, 592, 2572, 2234, 1090, 709, 2622, 2450, 1455, 606, 1251, 2077, 2954, 1180, 2633, 2396, 224, 537, 2026, 1124, 1945, 349, 1955, 2579, 2736, 1740, 551, 1210, 2157, 333, 2456, 2886, 2131, 549, 2484, 1757, 2784, 1198, 46, 873, 755, 678, 570, 764, 178, 1250, 2024, 642, 230, 2335, 452, 1534, 1143, 2416, 994, 2657, 1959, 1171, 179, 1321, 1323, 829, 2795, 979, 838, 1573, 1354, 2715, 2331, 1636, 1888, 776, 216, 528, 1556, 1927, 580, 1811, 2687, 6, 1415, 2429, 2529, 2204, 187, 696, 504, 2620, 2463, 1958, 620, 2641, 438, 1469, 1013, 1897, 1338, 297, 1005, 635, 2242, 342, 1030, 2810, 2398, 72, 491, 7, 777, 1854, 2836, 817, 2471, 1950, 1935, 1004, 1992, 1031, 1841, 2945, 402, 2919, 341, 2050, 2519, 751, 2940, 2194, 1032, 797, 1385, 2483, 213, 1540, 1983, 698, 148, 57, 1376, 2354, 1742, 2852, 1414, 1204, 1793, 404, 574, 1272, 1776, 1688, 430, 440, 841, 1434, 2179, 535, 770, 2877, 390, 862, 607, 2078, 2315, 1179, 721, 555, 2053, 2216, 161, 1669, 1647, 262, 1515, 1560, 2413, 1723, 2243, 1563, 789, 806, 466, 260, 1315, 106, 422, 2189, 1860]\n",
      "Valor de diversidad maxima: 22620205.0\n"
     ]
    }
   ],
   "source": [
    "# Cargar una instancia\n",
    "path = \"Instancias y Tablas MDP 2020-21/\"\n",
    "file_path = path + \"MDG-c_1_n3000_m300.txt\"\n",
    "n, m, distances = load_instance(file_path)\n",
    "\n",
    "# Ejecutar el Algoritmo Genético\n",
    "print(f\"\\nIniciando Algoritmo Genético con 50 individuos y 250 generaciones...\")\n",
    "ga = GeneticAlgorithm(distances, n, m, population_size=50, generations=250)\n",
    "best_solution, best_fitness = ga.evolve()\n",
    "print(\"\\nFinalización del Algoritmo Genético\")\n",
    "\n",
    "print(\"Mejor solucion encontrada:\", best_solution)\n",
    "print(\"Valor de diversidad maxima:\", best_fitness)"
   ]
  },
  {
   "cell_type": "markdown",
   "metadata": {},
   "source": [
    "### Algoritmo Genético (GA) Optimizado\n",
    "\n",
    "Vamos a implementar el Algoritmo Genético (GA) optimizado en términos de computación para el Problema de la Diversidad Máxima (PDM) en Python."
   ]
  },
  {
   "cell_type": "code",
   "execution_count": 83,
   "metadata": {},
   "outputs": [],
   "source": [
    "# Optimización de fitness con Numba para máxima velocidad\n",
    "@njit(fastmath=True, parallel=True)\n",
    "def fitness(solution, distances):\n",
    "    return np.sum(np.triu(distances[solution][:, solution]))"
   ]
  },
  {
   "cell_type": "code",
   "execution_count": null,
   "metadata": {},
   "outputs": [],
   "source": [
    "# Otra prueba de optimización\n",
    "# @jit\n",
    "# def fitness(solution, distances):\n",
    "#     sol_array = jnp.array(solution)\n",
    "#     return jnp.sum(jnp.triu(distances[sol_array][:, sol_array]))"
   ]
  },
  {
   "cell_type": "code",
   "execution_count": 82,
   "metadata": {},
   "outputs": [],
   "source": [
    "### Algoritmo Genético (GA)\n",
    "class GeneticAlgorithm:\n",
    "    def __init__(self, distances, n, m, population_size=100, generations=500, mutation_rate=0.1, elite_size=10):\n",
    "        self.distances = distances\n",
    "        self.n = n\n",
    "        self.m = m\n",
    "        self.population_size = population_size\n",
    "        self.generations = generations\n",
    "        self.mutation_rate = mutation_rate\n",
    "        self.elite_size = elite_size\n",
    "        self.population = self.initialize_population()\n",
    "        self.best_solution = None\n",
    "        self.best_fitness = -np.inf\n",
    "\n",
    "    def initialize_population(self):\n",
    "        return [np.random.choice(self.n, self.m, replace=False).tolist() for _ in range(self.population_size)]\n",
    "\n",
    "    def selection(self):\n",
    "        indices = np.random.randint(0, self.population_size, (self.population_size, 5))\n",
    "        tournament_solutions = np.array(self.population)[indices]\n",
    "        fitness_values = np.array([[fitness(sol, self.distances) for sol in group] for group in tournament_solutions])\n",
    "        best_indices = fitness_values.argmax(axis=1)\n",
    "        return [tournament_solutions[i, best_indices[i]] for i in range(self.population_size)]\n",
    "\n",
    "    def crossover(self, parent1, parent2):\n",
    "        cut = np.random.randint(1, self.m - 1)\n",
    "        child = np.concatenate((parent1[:cut], np.setdiff1d(parent2, parent1[:cut], assume_unique=True)))[:self.m]\n",
    "        return child.tolist()\n",
    "\n",
    "    def mutate(self, solution):\n",
    "        if np.random.rand() < self.mutation_rate:\n",
    "            idx1, idx2 = np.random.choice(self.m, 2, replace=False)\n",
    "            solution[idx1], solution[idx2] = solution[idx2], solution[idx1]\n",
    "        return solution\n",
    "\n",
    "    def evolve(self):\n",
    "        population = np.array(self.population)\n",
    "\n",
    "        for generation in range(self.generations):\n",
    "            new_population = np.array(self.selection())[:self.elite_size]\n",
    "\n",
    "            while len(new_population) < self.population_size:\n",
    "                p1, p2 = population[np.random.choice(self.population_size, 2, replace=False)]\n",
    "                child = self.crossover(p1, p2)\n",
    "                new_population = np.vstack([new_population, self.mutate(child)])\n",
    "\n",
    "            population = new_population\n",
    "\n",
    "            fitness_values = np.array([fitness(sol, self.distances) for sol in population])\n",
    "            best_idx = np.argmax(fitness_values)\n",
    "            current_best_fitness = fitness_values[best_idx]\n",
    "\n",
    "            if current_best_fitness > self.best_fitness:\n",
    "                self.best_fitness = current_best_fitness\n",
    "                self.best_solution = population[best_idx]\n",
    "                print(f\"\\n[Generación {generation+1}] Nuevo mejor valor de diversidad: {self.best_fitness:.2f}\", flush=True)\n",
    "\n",
    "        return self.best_solution, self.best_fitness"
   ]
  },
  {
   "cell_type": "markdown",
   "metadata": {},
   "source": [
    "### Prueba del código sobre una de las instancias MDG-a"
   ]
  },
  {
   "cell_type": "code",
   "execution_count": 41,
   "metadata": {},
   "outputs": [
    {
     "name": "stdout",
     "output_type": "stream",
     "text": [
      "\n",
      "Iniciando Algoritmo Genético con 50 individuos y 250 generaciones...\n",
      "\n",
      "[Generación 1] Nuevo mejor valor de diversidad: 6290.11\n",
      "\n",
      "[Generación 2] Nuevo mejor valor de diversidad: 6412.19\n",
      "\n",
      "[Generación 8] Nuevo mejor valor de diversidad: 6427.85\n",
      "\n",
      "[Generación 16] Nuevo mejor valor de diversidad: 6430.63\n",
      "\n",
      "[Generación 28] Nuevo mejor valor de diversidad: 6440.83\n",
      "\n",
      "[Generación 37] Nuevo mejor valor de diversidad: 6471.65\n",
      "\n",
      "[Generación 113] Nuevo mejor valor de diversidad: 6475.87\n",
      "\n",
      "[Generación 166] Nuevo mejor valor de diversidad: 6478.01\n",
      "\n",
      "[Generación 174] Nuevo mejor valor de diversidad: 6479.53\n",
      "\n",
      "[Generación 185] Nuevo mejor valor de diversidad: 6523.29\n",
      "\n",
      "Finalización del Algoritmo Genético\n",
      "Mejor solucion encontrada: [497 167 123 487 478  65 127  54 359 121 421 480 161 279 261 358 254 247\n",
      " 496 156 448  20 336 335  32 258 357 300 146 197  36  95  78 252  27 304\n",
      " 158 246 131 111  71 384 263 371 182 432 180 102 403 169]\n",
      "Valor de diversidad maxima: 6523.29\n"
     ]
    }
   ],
   "source": [
    "# Cargar una instancia\n",
    "path = \"Instancias y Tablas MDP 2020-21/\"\n",
    "file_path = path + \"MDG-a_1_n500_m50.txt\"\n",
    "n, m, distances = load_instance(file_path)\n",
    "\n",
    "# Ejecutar el Algoritmo Genético\n",
    "print(f\"\\nIniciando Algoritmo Genético con 50 individuos y 250 generaciones...\")\n",
    "ga = GeneticAlgorithm(distances, n, m, population_size=50, generations=250)\n",
    "best_solution, best_fitness = ga.evolve()\n",
    "print(\"\\nFinalización del Algoritmo Genético\")\n",
    "\n",
    "print(\"Mejor solucion encontrada:\", best_solution)\n",
    "print(\"Valor de diversidad maxima:\", best_fitness)"
   ]
  },
  {
   "cell_type": "markdown",
   "metadata": {},
   "source": [
    "### Prueba del código sobre una de las instancias MDG-b"
   ]
  },
  {
   "cell_type": "code",
   "execution_count": 42,
   "metadata": {},
   "outputs": [
    {
     "name": "stdout",
     "output_type": "stream",
     "text": [
      "\n",
      "Iniciando Algoritmo Genético con 50 individuos y 250 generaciones...\n",
      "\n",
      "[Generación 1] Nuevo mejor valor de diversidad: 10057093.46\n",
      "\n",
      "[Generación 18] Nuevo mejor valor de diversidad: 10060112.81\n",
      "\n",
      "[Generación 21] Nuevo mejor valor de diversidad: 10068545.44\n",
      "\n",
      "[Generación 122] Nuevo mejor valor de diversidad: 10070558.62\n",
      "\n",
      "[Generación 124] Nuevo mejor valor de diversidad: 10085586.53\n",
      "\n",
      "Finalización del Algoritmo Genético\n",
      "Mejor solucion encontrada: [ 515  960 1448 1988 1692 1964  746  961  165   26 1534  275  651 1024\n",
      " 1454  590 1030  757  406  329  681  913 1465  145 1560 1837 1087  488\n",
      "  551 1443 1793 1083 1468  768  528   38 1201   71 1981 1703 1521  235\n",
      " 1263 1442  973  747  246  569  941  987  486 1193  431  104  509  727\n",
      " 1913  514  251 1159 1309  979 1160  767 1700 1227  501 1257  586 1853\n",
      "  618 1780  737 1028 1487   35  497   70  392 1252 1420 1977 1346  684\n",
      "  221 1073 1115  162  824  676  359  339 1609  547  865  777  549  814\n",
      "  215 1317 1797 1989   30  167  900 1952 1277 1157  280   33  538 1445\n",
      " 1374  695  650 1528 1419  809 1969  570 1746  203  951 1466 1173  589\n",
      "  440 1064   49 1815 1140  557 1908  963  602  168 1127 1222 1274  736\n",
      " 1967 1314 1478 1251 1429 1025 1253  238 1067  195 1577  193 1469 1623\n",
      " 1098 1110  106  479 1681  939 1920 1589  640 1601  172   60 1095 1474\n",
      "  758 1639  729  313 1855  579   87 1147 1707 1338  345  169 1889 1959\n",
      " 1664  382  898 1904 1935 1464   50  525 1619  846 1080   29 1508  696\n",
      " 1194   98 1788  769]\n",
      "Valor de diversidad maxima: 10085586.525188385\n"
     ]
    }
   ],
   "source": [
    "# Cargar una instancia\n",
    "path = \"Instancias y Tablas MDP 2020-21/\"\n",
    "file_path = path + \"MDG-b_21_n2000_m200.txt\"\n",
    "n, m, distances = load_instance(file_path)\n",
    "\n",
    "# Ejecutar el Algoritmo Genético\n",
    "print(f\"\\nIniciando Algoritmo Genético con 50 individuos y 250 generaciones...\")\n",
    "ga = GeneticAlgorithm(distances, n, m, population_size=50, generations=250)\n",
    "best_solution, best_fitness = ga.evolve()\n",
    "print(\"\\nFinalización del Algoritmo Genético\")\n",
    "\n",
    "print(\"Mejor solucion encontrada:\", best_solution)\n",
    "print(\"Valor de diversidad maxima:\", best_fitness)"
   ]
  },
  {
   "cell_type": "markdown",
   "metadata": {},
   "source": [
    "### Prueba del código sobre una de las instancias MDG-c"
   ]
  },
  {
   "cell_type": "code",
   "execution_count": 49,
   "metadata": {},
   "outputs": [
    {
     "name": "stdout",
     "output_type": "stream",
     "text": [
      "\n",
      "Iniciando Algoritmo Genético con 50 individuos y 250 generaciones...\n",
      "\n",
      "[Generación 1] Nuevo mejor valor de diversidad: 22587930.00\n",
      "\n",
      "[Generación 3] Nuevo mejor valor de diversidad: 22618239.00\n",
      "\n",
      "[Generación 4] Nuevo mejor valor de diversidad: 22626923.00\n",
      "\n",
      "[Generación 65] Nuevo mejor valor de diversidad: 22634829.00\n",
      "\n",
      "[Generación 147] Nuevo mejor valor de diversidad: 22650684.00\n",
      "\n",
      "[Generación 190] Nuevo mejor valor de diversidad: 22651042.00\n",
      "\n",
      "[Generación 206] Nuevo mejor valor de diversidad: 22653503.00\n",
      "\n",
      "Finalización del Algoritmo Genético\n",
      "Mejor solucion encontrada: [2179   57 2530  680  818   45  319  388 2056   47 1440  412 1626 1919\n",
      "  337  571 1129 2457  998  112  238 1544 1181  432  390 2154 2063 1175\n",
      " 1269 1752 2638 1592 2686 1955 2604  637   27 2146 2384 1049 1507 1621\n",
      "  521  841 2287  155 2317 2714 1963  870  572 2874 2467 1228 2260 1815\n",
      "  353 1256 1883 1933 1013  810 1403 2720  871  333  997 1686 1660  532\n",
      " 1344 1762 2119 2470 1832 1492 2684 2802  518  226  311 2473 2771 2052\n",
      " 1742  588  439 2423  899 1596  223 2573 2312  704  394 1210 2401  447\n",
      " 1441 1985  484 2305 1324 2501  819 2227  453 2263 1825 2297  660  427\n",
      "  816 2365  144 1267  560 1388 2045 2923 1353 2929 1704 1595 2819 1480\n",
      " 2231 1390  932 2728 2574 2953 1481 2780 1172  188 2836  253  731  959\n",
      "  495 1999  825 2134 1376  398  212 1318 2826  947 2252 2044 1470 1525\n",
      " 1872  703  715 2916 1662  852 1501 1967 2034 1846 1805 2441 1268 1610\n",
      "  103 1208 2973 2770 1646 1152  940 1250 1699   81 1755 2959 1802 1887\n",
      " 1248   74 2922 2690 2742   21 1035 2073 1015 2588 1422 1833  200 2797\n",
      " 1034 1068 1624   28 2322 2361  707  108 2298 2284 2520  384 2671 1679\n",
      "  747 1758 1296 2774 2834 2540 2433 2145 1335  878 2893  896   34  618\n",
      "  180 1953 2817    0  832 1754  958  375 2569 1412 1876  520 2421  989\n",
      "  364 1455 1076  999 1818 2339 2716 2532 2629 2469 2097 1040 1645 1620\n",
      "  298  309 1951 2517 2698  982  529  760 1225 1813 2080 2273  611 1482\n",
      "  496  128  603 1786 1795 2997  817 1260 2757 2025 1957   96 2395  264\n",
      "  360 1568  100  583 1361 2221  937   67 2192 1519 1304 2351 2641  630\n",
      "  445  801  789 1469  196 1262]\n",
      "Valor de diversidad maxima: 22653503.0\n"
     ]
    }
   ],
   "source": [
    "# Cargar una instancia\n",
    "path = \"Instancias y Tablas MDP 2020-21/\"\n",
    "file_path = path + \"MDG-c_1_n3000_m300.txt\"\n",
    "n, m, distances = load_instance(file_path)\n",
    "\n",
    "# Ejecutar el Algoritmo Genético\n",
    "print(f\"\\nIniciando Algoritmo Genético con 50 individuos y 250 generaciones...\")\n",
    "ga = GeneticAlgorithm(distances, n, m, population_size=50, generations=250)\n",
    "best_solution, best_fitness = ga.evolve()\n",
    "print(\"\\nFinalización del Algoritmo Genético\")\n",
    "\n",
    "print(\"Mejor solucion encontrada:\", best_solution)\n",
    "print(\"Valor de diversidad maxima:\", best_fitness)"
   ]
  },
  {
   "cell_type": "markdown",
   "metadata": {},
   "source": [
    "### Procesamos todas las instancias\n",
    "\n",
    "Los algoritmos evolutivos dependen del azar, por lo que es fundamental:\n",
    "- Ejecutar cada instancia múltiples veces.\n",
    "- Tomar la media y desviación estándar de los resultados.\n",
    "- Cada instancia se ejecutará 10 veces.\n",
    "\n",
    "### Vamos a dividir el problema en 3 (a, b y c)\n",
    "\n",
    "Utilizamos joblib para ejecutar el algoritmo en paralelo y maximizar el rendimiento."
   ]
  },
  {
   "cell_type": "code",
   "execution_count": 84,
   "metadata": {},
   "outputs": [],
   "source": [
    "### Ejecutar Algoritmo Genético en Paralelo con Joblib\n",
    "def run_ga(file_name, population_size, generations):\n",
    "    path = \"Instancias y Tablas MDP 2020-21/\"\n",
    "    file_path = os.path.join(path, file_name)\n",
    "    n, m, distances = load_instance(file_path)\n",
    "\n",
    "    num_runs = 10\n",
    "    fitness_values = []\n",
    "\n",
    "    for _ in range(num_runs):\n",
    "        ga = GeneticAlgorithm(distances, n, m, population_size=population_size, generations=generations)\n",
    "        _, best_fitness = ga.evolve()\n",
    "        fitness_values.append(best_fitness)\n",
    "\n",
    "    mean_fitness = np.mean(fitness_values)\n",
    "    std_fitness = np.std(fitness_values)\n",
    "    max_fitness = np.max(fitness_values)\n",
    "\n",
    "    return [file_name, max_fitness, mean_fitness, std_fitness]"
   ]
  },
  {
   "cell_type": "markdown",
   "metadata": {},
   "source": [
    "## MDG-a"
   ]
  },
  {
   "cell_type": "code",
   "execution_count": null,
   "metadata": {},
   "outputs": [
    {
     "name": "stdout",
     "output_type": "stream",
     "text": [
      "\n",
      "Resultados guardados en resultados_ga_MDGa.csv\n"
     ]
    }
   ],
   "source": [
    "### Ejecutar Todas las Instancias de MDG-a en Paralelo\n",
    "if __name__ == \"__main__\":\n",
    "    path = \"Instancias y Tablas MDP 2020-21/\"\n",
    "    instance_files = [f for f in os.listdir(path) if f.endswith(\".txt\") and f.startswith(\"MDG-a\")]\n",
    "\n",
    "    # Ejecutar en paralelo con Joblib\n",
    "    results = Parallel(n_jobs=-1)(delayed(run_ga)(file, 100, 750) for file in instance_files)\n",
    "\n",
    "    # Guardar los resultados\n",
    "    df = pd.DataFrame(results, columns=[\"Instancia\", \"Máxima Diversidad\", \"Media Diversidad\", \"Desviación\"])\n",
    "    df.to_csv(\"resultados_ga_MDGa.csv\", index=False)\n",
    "\n",
    "    print(\"\\nResultados guardados en resultados_ga_MDGa.csv\")"
   ]
  },
  {
   "cell_type": "markdown",
   "metadata": {},
   "source": [
    "## MDG-b"
   ]
  },
  {
   "cell_type": "code",
   "execution_count": 85,
   "metadata": {},
   "outputs": [
    {
     "name": "stdout",
     "output_type": "stream",
     "text": [
      "\n",
      "Resultados guardados en resultados_ga_MDGb.csv\n"
     ]
    }
   ],
   "source": [
    "### Ejecutar Todas las Instancias de MDG-b en Paralelo\n",
    "if __name__ == \"__main__\":\n",
    "    path = \"Instancias y Tablas MDP 2020-21/\"\n",
    "    instance_files = [f for f in os.listdir(path) if f.endswith(\".txt\") and f.startswith(\"MDG-b\")]\n",
    "\n",
    "    # Ejecutar en paralelo con Joblib\n",
    "    results = Parallel(n_jobs=-1)(delayed(run_ga)(file, 50, 200) for file in instance_files)\n",
    "\n",
    "    # Guardar los resultados\n",
    "    df = pd.DataFrame(results, columns=[\"Instancia\", \"Máxima Diversidad\", \"Media Diversidad\", \"Desviación\"])\n",
    "    df.to_csv(\"resultados_ga_MDGb.csv\", index=False)\n",
    "\n",
    "    print(\"\\nResultados guardados en resultados_ga_MDGb.csv\")"
   ]
  },
  {
   "cell_type": "markdown",
   "metadata": {},
   "source": [
    "## MDG-c"
   ]
  },
  {
   "cell_type": "code",
   "execution_count": 86,
   "metadata": {},
   "outputs": [
    {
     "name": "stdout",
     "output_type": "stream",
     "text": [
      "\n",
      "Resultados guardados en resultados_ga_MDGc.csv\n"
     ]
    }
   ],
   "source": [
    "### Ejecutar Todas las Instancias de MDG-c en Paralelo\n",
    "if __name__ == \"__main__\":\n",
    "    path = \"Instancias y Tablas MDP 2020-21/\"\n",
    "    instance_files = [f for f in os.listdir(path) if f.endswith(\".txt\") and f.startswith(\"MDG-c\")]\n",
    "\n",
    "    # Ejecutar en paralelo con Joblib\n",
    "    results = Parallel(n_jobs=-1)(delayed(run_ga)(file, 25, 50) for file in instance_files)\n",
    "\n",
    "    # Guardar los resultados\n",
    "    df = pd.DataFrame(results, columns=[\"Instancia\", \"Máxima Diversidad\", \"Media Diversidad\", \"Desviación\"])\n",
    "    df.to_csv(\"resultados_ga_MDGc.csv\", index=False)\n",
    "\n",
    "    print(\"\\nResultados guardados en resultados_ga_MDGc.csv\")"
   ]
  },
  {
   "cell_type": "markdown",
   "metadata": {},
   "source": [
    "### Mejorando las soluciones encontradas\n",
    "\n",
    "Ya hemos alcanzado el máximo rendimiento en términos de computación. Ahora quiero optimizar las soluciones. Para ello incluyo búsqueda local:\n",
    "\n",
    "- El GA explora globalmente el espacio de soluciones, pero puede quedarse en soluciones subóptimas.\n",
    "- La búsqueda local mejora soluciones individuales refinando sus valores sin alterar la población.\n",
    "- Cuando combinamos GA con BL, el resultado se llama un Algoritmo Memético (MA).\n",
    "\n",
    "Para mejorar los resultados, hemos aplicado diversas optimizaciones, dando lugar a un Algoritmo Memético (MA) que combina GA con técnicas avanzadas de búsqueda local y optimización.\n",
    "\n",
    "1. Búsqueda Local Fast Lin-Kernighan (FastLK): \n",
    "- Optimiza cada solución individualmente tras el cruce y la mutación, explorando cambios menores en la estructura de la solución.\n",
    "- Evita que la búsqueda global se quede atrapada en soluciones subóptimas.\n",
    "- Mejora progresiva en cada iteración al explotar las soluciones generadas por el GA.\n",
    "- Disminuye la varianza en los resultados finales.\n",
    "\n",
    "2. Mutación Adaptativa:\n",
    "- Modifica dinámicamente la tasa de mutación dependiendo del progreso del algoritmo:\n",
    "    - Si no hay mejora en 10 generaciones: La mutación aumenta al 30%.\n",
    "    - Si no hay mejora en 20 generaciones: La mutación sube al 50%.\n",
    "    - Si hay mejora: Se mantiene la mutación estándar (10%).\n",
    "- Evita que el algoritmo quede atrapado en óptimos locales aumentando la exploración cuando no se mejora.\n",
    "- Controla el nivel de diversidad en la población según la evolución del algoritmo.\n",
    "\n",
    "3. Destrucción y Reconstrucción de Soluciones (Iterated Greedy):\n",
    "- Se eliminan parcialmente algunas soluciones y se reconstruyen de manera inteligente, maximizando la diversidad.\n",
    "- Permite escapar de óptimos locales explorando nuevas combinaciones de elementos.\n",
    "- Incrementa la diversidad sin afectar la calidad de la solución.\n",
    "- Reduce la convergencia prematura del algoritmo.\n",
    "\n",
    "4. Aceptación de Soluciones Peores con Random Walk (RW):\n",
    "- En lugar de descartar soluciones peores automáticamente, se aceptan bajo cierta probabilidad dependiendo de la diferencia de fitness y la temperatura del sistema.\n",
    "- Implementa un enfriamiento simulado para evitar quedar atrapado en óptimos locales.\n",
    "- Permite escapar de óptimos locales.\n",
    "- Simula un comportamiento de exploración más realista del espacio de búsqueda."
   ]
  },
  {
   "cell_type": "code",
   "execution_count": 67,
   "metadata": {},
   "outputs": [],
   "source": [
    "### Búsqueda Local Fast Lin-Kernighan (FastLK)\n",
    "@njit(fastmath=True)\n",
    "def fast_lin_kernighan(solution, distances):\n",
    "    best_solution = solution.copy()\n",
    "    best_fitness = fitness(best_solution, distances)\n",
    "    \n",
    "    for _ in range(5):  # Iteraciones limitadas para mejorar velocidad\n",
    "        i, j = np.random.choice(len(solution), 2, replace=False)\n",
    "        new_solution = best_solution.copy()\n",
    "        new_solution[i], new_solution[j] = new_solution[j], new_solution[i]\n",
    "        new_fitness = fitness(new_solution, distances)\n",
    "\n",
    "        if new_fitness > best_fitness:\n",
    "            best_fitness = new_fitness\n",
    "            best_solution = new_solution\n",
    "    \n",
    "    return best_solution"
   ]
  },
  {
   "cell_type": "code",
   "execution_count": 68,
   "metadata": {},
   "outputs": [],
   "source": [
    "### Aceptación de soluciones peores con Random Walk (RW)\n",
    "@njit(fastmath=True)\n",
    "def should_accept(new_fitness, current_fitness, temperature):\n",
    "    return new_fitness > current_fitness or np.exp((new_fitness - current_fitness) / temperature) > np.random.rand()"
   ]
  },
  {
   "cell_type": "code",
   "execution_count": 69,
   "metadata": {},
   "outputs": [],
   "source": [
    "### Destrucción y Reconstrucción de Soluciones (Iterated Greedy)\n",
    "@njit(fastmath=True)\n",
    "def destroy_solution(solution, num_remove):\n",
    "    remove_indices = np.random.choice(len(solution), num_remove, replace=False)\n",
    "    return [solution[i] for i in range(len(solution)) if i not in remove_indices]\n",
    "\n",
    "@njit(fastmath=True)\n",
    "def rebuild_solution(solution, candidates, distances, m):\n",
    "    solution = np.array(solution)\n",
    "    candidates = np.array(candidates)\n",
    "\n",
    "    while solution.shape[0] < m and candidates.shape[0] > 0:\n",
    "        best_candidate_idx = np.argmax(np.array([np.sum(distances[c, solution]) for c in candidates]))\n",
    "        best_candidate = candidates[best_candidate_idx]\n",
    "        solution = np.concatenate((solution, np.array([best_candidate])))\n",
    "        candidates = np.delete(candidates, best_candidate_idx)\n",
    "\n",
    "    return solution[:m]  # Asegurar que solo devuelva `m` elementos"
   ]
  },
  {
   "cell_type": "code",
   "execution_count": 70,
   "metadata": {},
   "outputs": [],
   "source": [
    "### Algoritmo Memético (GA + Búsqueda Local con FastLK + IG + RW)\n",
    "class MemeticAlgorithm:\n",
    "    def __init__(self, distances, n, m, population_size=100, generations=500, mutation_rate=0.1, elite_size=10, temp=100):\n",
    "        self.distances = distances\n",
    "        self.n = n\n",
    "        self.m = m\n",
    "        self.population_size = population_size\n",
    "        self.generations = generations\n",
    "        self.mutation_rate = mutation_rate\n",
    "        self.elite_size = elite_size\n",
    "        self.population = self.initialize_population()\n",
    "        self.best_solution = None\n",
    "        self.best_fitness = -np.inf\n",
    "        self.no_improvement = 0\n",
    "        self.temperature = temp\n",
    "\n",
    "    def initialize_population(self):\n",
    "        return [np.random.choice(self.n, self.m, replace=False).tolist() for _ in range(self.population_size)]\n",
    "\n",
    "    def selection(self):\n",
    "        indices = np.random.randint(0, self.population_size, (self.population_size, 5))\n",
    "        tournament_solutions = np.array(self.population)[indices]\n",
    "        fitness_values = np.array([[fitness(sol, self.distances) for sol in group] for group in tournament_solutions])\n",
    "        best_indices = fitness_values.argmax(axis=1)\n",
    "        return [tournament_solutions[i, best_indices[i]] for i in range(self.population_size)]\n",
    "\n",
    "    def crossover(self, parent1, parent2):\n",
    "        cut = np.random.randint(1, self.m - 1)\n",
    "        parent1_set = set(parent1[:cut])\n",
    "        child = np.concatenate((parent1[:cut], [gene for gene in parent2 if gene not in parent1_set]))[:self.m]\n",
    "        return child\n",
    "\n",
    "    def mutate(self, solution):\n",
    "        adaptive_mutation = self.mutation_rate\n",
    "        if self.no_improvement > 10:\n",
    "            adaptive_mutation = 0.3  \n",
    "        elif self.no_improvement > 20:\n",
    "            adaptive_mutation = 0.5  \n",
    "\n",
    "        if np.random.rand() < adaptive_mutation:\n",
    "            idx1, idx2 = np.random.choice(self.m, 2, replace=False)\n",
    "            solution[idx1], solution[idx2] = solution[idx2], solution[idx1]\n",
    "        return solution\n",
    "\n",
    "    def evolve(self):\n",
    "        population = np.array(self.population)\n",
    "\n",
    "        for generation in range(self.generations):\n",
    "            new_population = np.array(self.selection())[:self.elite_size]\n",
    "\n",
    "            while len(new_population) < self.population_size:\n",
    "                p1, p2 = population[np.random.choice(self.population_size, 2, replace=False)]\n",
    "                child = self.crossover(p1, p2)\n",
    "                new_population = np.vstack([new_population, self.mutate(child)])\n",
    "\n",
    "            population = new_population\n",
    "\n",
    "            fitness_values = np.array([fitness(sol, self.distances) for sol in population])\n",
    "            best_idx = np.argmax(fitness_values)\n",
    "            best_solution = population[best_idx]\n",
    "            improved_solution = fast_lin_kernighan(best_solution, self.distances)\n",
    "\n",
    "            destroyed_solution = destroy_solution(improved_solution, num_remove=int(0.5 * self.m))\n",
    "            candidates = list(set(range(self.n)) - set(destroyed_solution))\n",
    "            rebuilt_solution = rebuild_solution(destroyed_solution, candidates, self.distances, self.m)\n",
    "\n",
    "            if should_accept(fitness(np.array(rebuilt_solution), self.distances), \n",
    "                             fitness(np.array(improved_solution), self.distances), \n",
    "                             self.temperature):\n",
    "                population[best_idx] = rebuilt_solution\n",
    "\n",
    "            current_best_fitness = fitness_values[best_idx]\n",
    "\n",
    "            if current_best_fitness > self.best_fitness:\n",
    "                self.best_fitness = current_best_fitness\n",
    "                self.best_solution = population[best_idx]\n",
    "                self.no_improvement = 0  \n",
    "                print(f\"\\n[Generación {generation+1}] Nuevo mejor valor de diversidad: {self.best_fitness:.2f}\", flush=True)\n",
    "            else:\n",
    "                self.no_improvement += 1  \n",
    "\n",
    "        return self.best_solution, self.best_fitness"
   ]
  },
  {
   "cell_type": "markdown",
   "metadata": {},
   "source": [
    "### Prueba con una instancia MDG-a"
   ]
  },
  {
   "cell_type": "code",
   "execution_count": 76,
   "metadata": {},
   "outputs": [
    {
     "name": "stdout",
     "output_type": "stream",
     "text": [
      "\n",
      "[Generación 1] Nuevo mejor valor de diversidad: 6387.60\n",
      "\n",
      "[Generación 2] Nuevo mejor valor de diversidad: 6790.95\n",
      "\n",
      "[Generación 5] Nuevo mejor valor de diversidad: 6965.85\n",
      "\n",
      "[Generación 13] Nuevo mejor valor de diversidad: 7032.13\n",
      "\n",
      "[Generación 14] Nuevo mejor valor de diversidad: 7301.62\n",
      "\n",
      "[Generación 17] Nuevo mejor valor de diversidad: 7362.49\n",
      "\n",
      "[Generación 120] Nuevo mejor valor de diversidad: 7509.10\n",
      "\n",
      "[Generación 655] Nuevo mejor valor de diversidad: 7521.77\n",
      "Mejor solucion encontrada: [465 434 109 410 139 264 102 336 298  41 323  57 411 490 484 145 112 183\n",
      "  54 110 285 351 121 393  34  47 151 437 439 251 498  72 407 302 213 337\n",
      " 402 451  14 329  60 205 296 480 143 458 339 397 492 376]\n",
      "Valor de diversidad maxima: 7521.77\n"
     ]
    }
   ],
   "source": [
    "# Cargar una instancia\n",
    "path = \"Instancias y Tablas MDP 2020-21/\"\n",
    "file_path = path + \"MDG-a_1_n500_m50.txt\"\n",
    "n, m, distances = load_instance(file_path)\n",
    "\n",
    "# Ejecutar el Algoritmo Genético\n",
    "ma = MemeticAlgorithm(distances, n, m, population_size=100, generations=750)\n",
    "best_solution, best_fitness = ma.evolve()\n",
    "\n",
    "print(\"Mejor solucion encontrada:\", best_solution)\n",
    "print(\"Valor de diversidad maxima:\", best_fitness)"
   ]
  },
  {
   "cell_type": "markdown",
   "metadata": {},
   "source": [
    "### Prueba con una instancia MDG-b"
   ]
  },
  {
   "cell_type": "code",
   "execution_count": 77,
   "metadata": {},
   "outputs": [
    {
     "name": "stdout",
     "output_type": "stream",
     "text": [
      "\n",
      "[Generación 1] Nuevo mejor valor de diversidad: 10053984.80\n",
      "\n",
      "[Generación 2] Nuevo mejor valor de diversidad: 10563729.87\n",
      "\n",
      "[Generación 8] Nuevo mejor valor de diversidad: 10595691.79\n",
      "\n",
      "[Generación 9] Nuevo mejor valor de diversidad: 10646056.64\n",
      "\n",
      "[Generación 11] Nuevo mejor valor de diversidad: 10747664.37\n",
      "\n",
      "[Generación 16] Nuevo mejor valor de diversidad: 10806802.95\n",
      "\n",
      "[Generación 44] Nuevo mejor valor de diversidad: 10819657.65\n",
      "\n",
      "[Generación 47] Nuevo mejor valor de diversidad: 10821596.40\n",
      "\n",
      "[Generación 50] Nuevo mejor valor de diversidad: 10866551.80\n",
      "\n",
      "[Generación 51] Nuevo mejor valor de diversidad: 10924717.18\n",
      "\n",
      "[Generación 122] Nuevo mejor valor de diversidad: 10954014.53\n",
      "\n",
      "[Generación 123] Nuevo mejor valor de diversidad: 11045195.86\n",
      "Mejor solucion encontrada: [ 270 1944 1812 1629  433  480  954 1200 1350  364 1894   39  574  213\n",
      "  642 1419 1121 1481 1418  918 1153  121 1515 1957 1186 1378 1967 1541\n",
      "  482 1120 1166  261  833   65 1519 1045  397 1040 1472 1032  541 1298\n",
      " 1364 1402 1137  111  500 1305  327 1211 1411 1556  265  164   41  155\n",
      " 1366  374 1892 1333  287 1604 1421  128 1185  139  622  424 1050 1409\n",
      "  381    7  929  770 1323  680 1641  512 1707 1031  212 1415 1628 1579\n",
      "  132 1631 1114  582 1968  462 1131  768 1262  707  789 1246 1868  262\n",
      "  385 1308 1424 1936 1178 1724  658  289 1652  775  675  771 1184  522\n",
      " 1288  829 1810 1290  837 1235   32 1446  785 1177  540 1017  267  791\n",
      "  980  583  251  203  156 1273  538 1865   78 1356 1264 1876 1426 1221\n",
      " 1039 1310 1766 1447  417 1111 1750  910 1449 1175 1765 1014  149  527\n",
      "  834 1282  561  838 1869  292  724  550   67  615 1041  520  813  147\n",
      " 1103   61 1270  502  378 1633 1168  934  573  379  873  105 1763 1072\n",
      " 1433  994 1387 1179 1260  187  363  103 1190  418  909 1150   73  595\n",
      "  362 1080  907 1830]\n",
      "Valor de diversidad maxima: 11045195.860733498\n"
     ]
    }
   ],
   "source": [
    "# Cargar una instancia\n",
    "path = \"Instancias y Tablas MDP 2020-21/\"\n",
    "file_path = path + \"MDG-b_21_n2000_m200.txt\"\n",
    "n, m, distances = load_instance(file_path)\n",
    "\n",
    "# Ejecutar el Algoritmo Genético\n",
    "ma = MemeticAlgorithm(distances, n, m, population_size=50, generations=200)\n",
    "best_solution, best_fitness = ma.evolve()\n",
    "\n",
    "print(\"Mejor solucion encontrada:\", best_solution)\n",
    "print(\"Valor de diversidad maxima:\", best_fitness)"
   ]
  },
  {
   "cell_type": "markdown",
   "metadata": {},
   "source": [
    "### Prueba con una instancia MDG-c"
   ]
  },
  {
   "cell_type": "code",
   "execution_count": 78,
   "metadata": {},
   "outputs": [
    {
     "name": "stdout",
     "output_type": "stream",
     "text": [
      "\n",
      "[Generación 1] Nuevo mejor valor de diversidad: 22564406.00\n",
      "\n",
      "[Generación 2] Nuevo mejor valor de diversidad: 23685712.00\n",
      "\n",
      "[Generación 12] Nuevo mejor valor de diversidad: 23696009.00\n",
      "\n",
      "[Generación 17] Nuevo mejor valor de diversidad: 23813702.00\n",
      "\n",
      "[Generación 22] Nuevo mejor valor de diversidad: 23864969.00\n",
      "Mejor solucion encontrada: [1268 1969 2690 2188 1958 1464 1841   54  600 1410  227 2891 1101 1447\n",
      "  281  351 1220 2453 2268 2822  706 1511 1113  684 1764 2355 2085 2064\n",
      " 1003 1029 2330 1945  318 1334 1417 1419 2122 1822 1210 2314  496 2261\n",
      "  942  542 1525  556 1721 1204 2714  137  493 2641  987  860 1759  664\n",
      " 1098 1402 2121  735 2368  985  773 2183 1436 1395 1256  738  104  378\n",
      " 2858 1620 1229 1495 2159 1654 2711 1651 2608 2814  233 2746  829 2627\n",
      " 2789 1756  912  593  142 1897  317 2808 1357  787 1466 2179 2385 2457\n",
      " 1036  151  466 1188 1800 1571 2823 2195 2358 1138  148  414 2670  350\n",
      "  831  857 2732 2307 1862 1597 1848  247 1172  603  352 2037 2202 2360\n",
      "  943  924 1942 1836 1086  678  444 1244 1981  316  546 1918 2912 1340\n",
      " 1179 1921  813  106 2349 1844 1838 1653 1128   66 2968   94 1150  715\n",
      " 2254 2507 1623 1936 1069 1056 2382 2317  564 2883 1105 1200 2832  239\n",
      "  514  510 1206  347  798 1378 1669 2069  177   63 2798 1450 1337 1573\n",
      " 1390 1134  753 2472 2443 2420 2278 1137 1634 2325  145  249 1664 1554\n",
      "   95 2057 2696 1329 1708  704  596 1915 1147 2229 1305 2366 2449 1655\n",
      " 2240 2043 1498  618  462 1148 1687 2523 2868  442 1314  270  575  808\n",
      "  643 2006  169 2056  824 2239 2438  729  465  214 2511 1710 1313 1556\n",
      "  803 1170  146 2315 1080 1610 2095 1279  856  765  772  853  301 2340\n",
      " 2105 1182  552 1053 2699  487  102 2764 1071 2222  477  998 2867 1675\n",
      " 1851 1085  155  309  243    1 2175 2326 2432 1401 2812 2134 2266  949\n",
      " 2859 1396 1677  113 2341   90 1706 2855 2164 2675  946  273 2216 1574\n",
      "  234  279 2586 2327 2518 1728]\n",
      "Valor de diversidad maxima: 23864969.0\n"
     ]
    }
   ],
   "source": [
    "# Cargar una instancia\n",
    "path = \"Instancias y Tablas MDP 2020-21/\"\n",
    "file_path = path + \"MDG-c_1_n3000_m300.txt\"\n",
    "n, m, distances = load_instance(file_path)\n",
    "\n",
    "# Ejecutar el Algoritmo Genético\n",
    "ma = MemeticAlgorithm(distances, n, m, population_size=25, generations=50)\n",
    "best_solution, best_fitness = ma.evolve()\n",
    "\n",
    "print(\"Mejor solucion encontrada:\", best_solution)\n",
    "print(\"Valor de diversidad maxima:\", best_fitness)"
   ]
  },
  {
   "cell_type": "code",
   "execution_count": 79,
   "metadata": {},
   "outputs": [],
   "source": [
    "### Ejecutar Algoritmo Memético en Paralelo con Joblib\n",
    "def run_ma(file_name, population_size, generations):\n",
    "    path = \"Instancias y Tablas MDP 2020-21/\"\n",
    "    file_path = os.path.join(path, file_name)\n",
    "    n, m, distances = load_instance(file_path)\n",
    "\n",
    "    num_runs = 10\n",
    "    fitness_values = []\n",
    "\n",
    "    for _ in range(num_runs):\n",
    "        ma = MemeticAlgorithm(distances, n, m, population_size=population_size, generations=generations)\n",
    "        _, best_fitness = ma.evolve()\n",
    "        fitness_values.append(best_fitness)\n",
    "\n",
    "    mean_fitness = np.mean(fitness_values)\n",
    "    std_fitness = np.std(fitness_values)\n",
    "    max_fitness = np.max(fitness_values)\n",
    "\n",
    "    print(f\"\\nArchivo: {file_name} -> Media: {mean_fitness}, Mejor: {max_fitness}, Desviación: {std_fitness}\")\n",
    "    return [file_name, max_fitness, mean_fitness, std_fitness]"
   ]
  },
  {
   "cell_type": "markdown",
   "metadata": {},
   "source": [
    "## MDG-a"
   ]
  },
  {
   "cell_type": "code",
   "execution_count": 75,
   "metadata": {},
   "outputs": [
    {
     "name": "stdout",
     "output_type": "stream",
     "text": [
      "\n",
      "Resultados guardados en resultados_ma_MDGa.csv\n"
     ]
    }
   ],
   "source": [
    "if __name__ == \"__main__\":\n",
    "    path = \"Instancias y Tablas MDP 2020-21/\"\n",
    "    instance_files = [f for f in os.listdir(path) if f.endswith(\".txt\") and f.startswith(\"MDG-a\")]\n",
    "    \n",
    "    results = Parallel(n_jobs=-1)(delayed(run_ma)(file, 100, 750) for file in instance_files)\n",
    "\n",
    "    df = pd.DataFrame(results, columns=[\"Instancia\", \"Máxima Diversidad\", \"Media Diversidad\", \"Desviación\"])\n",
    "    df.to_csv(\"resultados_ma_MDGa.csv\", index=False)\n",
    "\n",
    "    print(\"\\nResultados guardados en resultados_ma_MDGa.csv\")"
   ]
  },
  {
   "cell_type": "markdown",
   "metadata": {},
   "source": [
    "## MDG-b"
   ]
  },
  {
   "cell_type": "code",
   "execution_count": null,
   "metadata": {},
   "outputs": [],
   "source": [
    "if __name__ == \"__main__\":\n",
    "    path = \"Instancias y Tablas MDP 2020-21/\"\n",
    "    instance_files = [f for f in os.listdir(path) if f.endswith(\".txt\") and f.startswith(\"MDG-b\")]\n",
    "    \n",
    "    results = Parallel(n_jobs=-1)(delayed(run_ma)(file, 50, 200) for file in instance_files)\n",
    "\n",
    "    df = pd.DataFrame(results, columns=[\"Instancia\", \"Máxima Diversidad\", \"Media Diversidad\", \"Desviación\"])\n",
    "    df.to_csv(\"resultados_ma_MDGb.csv\", index=False)\n",
    "\n",
    "    print(\"\\nResultados guardados en resultados_ma_MDGb.csv\")"
   ]
  },
  {
   "cell_type": "markdown",
   "metadata": {},
   "source": [
    "## MDG-c"
   ]
  },
  {
   "cell_type": "code",
   "execution_count": 80,
   "metadata": {},
   "outputs": [
    {
     "name": "stdout",
     "output_type": "stream",
     "text": [
      "\n",
      "Resultados guardados en resultados_ma_MDGc.csv\n"
     ]
    }
   ],
   "source": [
    "if __name__ == \"__main__\":\n",
    "    path = \"Instancias y Tablas MDP 2020-21/\"\n",
    "    instance_files = [f for f in os.listdir(path) if f.endswith(\".txt\") and f.startswith(\"MDG-c\")]\n",
    "    \n",
    "    results = Parallel(n_jobs=-1)(delayed(run_ma)(file, 25, 50) for file in instance_files)\n",
    "\n",
    "    df = pd.DataFrame(results, columns=[\"Instancia\", \"Máxima Diversidad\", \"Media Diversidad\", \"Desviación\"])\n",
    "    df.to_csv(\"resultados_ma_MDGc.csv\", index=False)\n",
    "\n",
    "    print(\"\\nResultados guardados en resultados_ma_MDGc.csv\")"
   ]
  }
 ],
 "metadata": {
  "kernelspec": {
   "display_name": "venv",
   "language": "python",
   "name": "python3"
  },
  "language_info": {
   "codemirror_mode": {
    "name": "ipython",
    "version": 3
   },
   "file_extension": ".py",
   "mimetype": "text/x-python",
   "name": "python",
   "nbconvert_exporter": "python",
   "pygments_lexer": "ipython3",
   "version": "3.12.8"
  }
 },
 "nbformat": 4,
 "nbformat_minor": 2
}
